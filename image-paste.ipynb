{
 "cells": [
  {
   "cell_type": "code",
   "execution_count": 32,
   "metadata": {},
   "outputs": [],
   "source": [
    "from PIL import Image\n",
    "import math\n",
    "import os"
   ]
  },
  {
   "cell_type": "code",
   "execution_count": 2,
   "metadata": {},
   "outputs": [],
   "source": [
    "def apply_chyron(base_file_str: str, chyron_file_str: str) -> Image:\n",
    "    # Open and prepare the image files\n",
    "    base_im = Image.open(base_file_str)\n",
    "    chyron_im = Image.open(chyron_file_str)\n",
    "    back_im = base_im.copy()\n",
    "\n",
    "    # Get the dimensions of the base image and chyron image\n",
    "    chyron_width_int, chyron_height_int = chyron_im.size\n",
    "    back_width_int, back_height_int = back_im.size\n",
    "\n",
    "    # Calculate the scale factor and resize the chyron image\n",
    "    scale_flt = back_height_int / 5678\n",
    "    chyron_im = chyron_im.resize((int(chyron_width_int * scale_flt), int(chyron_height_int * scale_flt)))\n",
    "\n",
    "    # Get new chyron image dimensions and paste it to background so it's aligned bottom-left\n",
    "    chyron_width_int, chyron_height_int = chyron_im.size\n",
    "    back_im.paste(chyron_im, (0, back_height_int - chyron_height_int), chyron_im)\n",
    "\n",
    "    return back_im\n",
    "    "
   ]
  },
  {
   "cell_type": "code",
   "execution_count": 9,
   "metadata": {},
   "outputs": [],
   "source": [
    "base_file_str = r'C:\\Users\\thewh\\Downloads\\Frame\\218A3529.jpg'\n"
   ]
  },
  {
   "cell_type": "code",
   "execution_count": 44,
   "metadata": {},
   "outputs": [],
   "source": [
    "def resize_image(base_file_str):\n",
    "    # Open and prepare the image files\n",
    "    base_im = Image.open(base_file_str).copy()\n",
    "\n",
    "    # Get dimensions of the base image\n",
    "    base_width_int, base_height_int = base_im.size\n",
    "\n",
    "    # Calculate scale and crop factor\n",
    "    scale_flt = base_width_int / 3840\n",
    "\n",
    "    # Perform resize\n",
    "    if scale_flt > 1:\n",
    "        scaled_im = base_im.resize((math.ceil(base_width_int / scale_flt), math.ceil(base_height_int / scale_flt)))\n",
    "        new_width_int, new_height_int = scaled_im.size\n",
    "        vertical_crop_int = math.ceil((new_height_int - 2160) / 2)    \n",
    "        scaled_im = scaled_im.crop((0, 0 + vertical_crop_int, 3840, new_height_int - vertical_crop_int))\n",
    "        scaled_im = scaled_im.resize((3840, 2160))\n",
    "    \n",
    "        return scaled_im\n",
    "    \n",
    "    else:\n",
    "        return f\"{base_file_str} too small\"\n",
    "\n"
   ]
  },
  {
   "cell_type": "code",
   "execution_count": 30,
   "metadata": {},
   "outputs": [],
   "source": [
    "def chyron_directory(directory_str:str, chyron_file_str: str) -> str:\n",
    "    files_lst = os.listdir(directory_str)\n",
    "\n",
    "    for file in files_lst:\n",
    "        base_file_str = f'{directory_str}\\{file}'\n",
    "        \n",
    "        new_im = apply_chyron(base_file_str, chyron_file_str)\n",
    "        \n",
    "        new_im.save(f\"{directory_str}\\{file.split('.')[0]}-chyron.png\")\n",
    "    \n",
    "    return(f\"{directory_str} finished.\")"
   ]
  },
  {
   "cell_type": "code",
   "execution_count": null,
   "metadata": {},
   "outputs": [],
   "source": [
    "chyron_directory(r'C:\\Users\\thewh\\Pictures\\Dublin Shotoshoot\\frame', r'C:\\Users\\thewh\\Pictures\\Dublin Shotoshoot\\dublin-chyron.png')"
   ]
  },
  {
   "cell_type": "code",
   "execution_count": null,
   "metadata": {},
   "outputs": [],
   "source": [
    "directory_str = r'C:\\Users\\thewh\\Downloads\\Frame'\n",
    "files_lst = os.listdir(directory_str)\n",
    "for file in files_lst:\n",
    "    base_file_str = f'{directory_str}\\{file}'\n",
    "    new_im = resize_image(base_file_str)\n",
    "    if type(new_im) == str:\n",
    "        print(new_im)\n",
    "    else:\n",
    "        destination_str = fr\"{directory_str}\\resized\\{file.split('.')[0]}-resized.png\"\n",
    "        new_im.save(destination_str, format='PNG', quality=100)\n"
   ]
  },
  {
   "cell_type": "code",
   "execution_count": null,
   "metadata": {},
   "outputs": [],
   "source": [
    "destination_str"
   ]
  },
  {
   "cell_type": "code",
   "execution_count": null,
   "metadata": {},
   "outputs": [],
   "source": []
  }
 ],
 "metadata": {
  "kernelspec": {
   "display_name": ".venv",
   "language": "python",
   "name": "python3"
  },
  "language_info": {
   "codemirror_mode": {
    "name": "ipython",
    "version": 3
   },
   "file_extension": ".py",
   "mimetype": "text/x-python",
   "name": "python",
   "nbconvert_exporter": "python",
   "pygments_lexer": "ipython3",
   "version": "3.9.13"
  },
  "orig_nbformat": 4,
  "vscode": {
   "interpreter": {
    "hash": "a7c878765c663f91734d98065a6824e29ebe9b9a30d3bacd0762d3d35c59ad0f"
   }
  }
 },
 "nbformat": 4,
 "nbformat_minor": 2
}
