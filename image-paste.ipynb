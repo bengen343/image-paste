{
 "cells": [
  {
   "cell_type": "code",
   "execution_count": 1,
   "metadata": {},
   "outputs": [],
   "source": [
    "from PIL import Image"
   ]
  },
  {
   "cell_type": "code",
   "execution_count": 2,
   "metadata": {},
   "outputs": [],
   "source": [
    "def apply_chyron(base_file_str: str, chyron_file_str: str) -> Image:\n",
    "    # Open and and prepare the image files\n",
    "    base_im = Image.open(base_file_str)\n",
    "    chyron_im = Image.open(chyron_file_str)\n",
    "    back_im = base_im.copy()\n",
    "\n",
    "    # Get the dimensions of the base image and chyron image\n",
    "    chyron_width_int, chyron_height_int = chyron_im.size\n",
    "    back_width_int, back_height_int = back_im.size\n",
    "\n",
    "    # Calculate the scale factor and resize the chyron image\n",
    "    scale_flt = back_height_int / 5678\n",
    "    chyron_im = chyron_im.resize((int(chyron_width_int * scale_flt), int(chyron_height_int * scale_flt)))\n",
    "\n",
    "    # Get new chyron image dimensions and paste it to background so it's aligned bottom-left\n",
    "    chyron_width_int, chyron_height_int = chyron_im.size\n",
    "    back_im.paste(chyron_im, (0, back_height_int - chyron_height_int), chyron_im)\n",
    "\n",
    "    return back_im\n",
    "    "
   ]
  },
  {
   "cell_type": "code",
   "execution_count": 3,
   "metadata": {},
   "outputs": [],
   "source": [
    "def chyron_directory(directory_str:str, chyron_file_str: str) -> str:\n",
    "    files_lst = os.listdir(directory_str)\n",
    "\n",
    "    for file in files_lst:\n",
    "        base_file_str = f'{directory_str}\\{file}'\n",
    "        \n",
    "        new_im = apply_chyron(base_file_str, chyron_file_str)\n",
    "        \n",
    "        new_im.save(f\"{directory_str}\\{file.split('.')[0]}-chyron.png\")\n",
    "    \n",
    "    return(f\"{directory_str} finished.\")"
   ]
  },
  {
   "cell_type": "code",
   "execution_count": 4,
   "metadata": {},
   "outputs": [
    {
     "data": {
      "text/plain": [
       "'C:\\\\Users\\\\thewh\\\\Pictures\\\\Dublin Shotoshoot\\\\frame finished.'"
      ]
     },
     "execution_count": 4,
     "metadata": {},
     "output_type": "execute_result"
    }
   ],
   "source": [
    "chyron_directory(r'C:\\Users\\thewh\\Pictures\\Dublin Shotoshoot\\frame', r'C:\\Users\\thewh\\Pictures\\Dublin Shotoshoot\\dublin-chyron.png')"
   ]
  },
  {
   "cell_type": "code",
   "execution_count": null,
   "metadata": {},
   "outputs": [],
   "source": []
  }
 ],
 "metadata": {
  "kernelspec": {
   "display_name": ".venv",
   "language": "python",
   "name": "python3"
  },
  "language_info": {
   "codemirror_mode": {
    "name": "ipython",
    "version": 3
   },
   "file_extension": ".py",
   "mimetype": "text/x-python",
   "name": "python",
   "nbconvert_exporter": "python",
   "pygments_lexer": "ipython3",
   "version": "3.9.13"
  },
  "orig_nbformat": 4,
  "vscode": {
   "interpreter": {
    "hash": "a7c878765c663f91734d98065a6824e29ebe9b9a30d3bacd0762d3d35c59ad0f"
   }
  }
 },
 "nbformat": 4,
 "nbformat_minor": 2
}
